{
 "cells": [
  {
   "cell_type": "markdown",
   "metadata": {},
   "source": [
    "# TMA4215 - Project 1 - Emil Myhre\n"
   ]
  },
  {
   "cell_type": "markdown",
   "metadata": {},
   "source": [
    "## Problem 1:\n",
    "\n",
    "The induced matrix norm $\\lVert \\cdot \\rVert_{2}$ is given as $\\lVert A \\rVert_{2} = \\sqrt{p(A^{T}A)}$, where p is the spectral radius of a given matrix, meaning the maximum absolute value of its eigenvalues. \n",
    "\n",
    "In order to proove \n",
    "$\\lVert uv^{T} \\rVert_{2} = \\lVert u \\rVert_{2} \\cdot \\lVert v \\rVert_{2}$\n",
    "\n",
    "we use the definition of the induced matrix\n",
    "\n",
    "$\\lVert uv^{T} \\rVert_{2} = \\sqrt{p((uv^{T})^{T}uv^{T})} = \\sqrt{p(vu^{T}uv^{T})}$\n",
    "\n",
    "From the definition \n",
    "\n",
    "$\\lVert A \\rVert_{2} = \\sqrt{p(A^{T}A)}$\n",
    "\n",
    "we can write\n",
    "\n",
    "$\\sqrt{\\lVert u \\rVert_{2}^{2}p(vv^{T})} = \\lVert u \\rVert_{2} \\cdot \\sqrt{p(vv^{T})}$\n",
    "\n",
    "By solving the equation\n",
    "\n",
    "$vv^{T}x = x\\lambda$\n",
    "\n",
    "Substituting x for v: \n",
    "\n",
    "$vv^{T}v = v\\lambda$\n",
    "\n",
    "$v^{T}v = \\lambda$\n",
    "\n",
    "Now we can substitute $p(vv^{T})$ with  $\\lVert v \\rVert_{2}$\n",
    "\n",
    "Thus\n",
    "\n",
    "$\\lVert uv^{T} \\rVert_{2} = \\lVert u \\rVert_{2} \\cdot \\lVert v \\rVert_{2}$\n"
   ]
  },
  {
   "cell_type": "markdown",
   "metadata": {},
   "source": [
    "## Problem 2: \n",
    "\n",
    "From the definition of condition numbers, we have:\n",
    "\n",
    "$k_{2}(A) = \\lVert A \\rVert_{2} \\cdot \\lVert A^{-1} \\rVert_{2}$\n",
    "\n",
    "Given a symmetrical matrix, we have $A^{T} = A$, which leads to: \n",
    "\n",
    "$\\lVert A \\rVert_{2} = \\sqrt{p(A^{T}A)} = \\sqrt{p(A^{2})} = \\sqrt{(p(A))^{2}} = p(A)$\n",
    "\n",
    "where $p(A)$ is defined as $\\mid \\lambda_{max} \\mid$\n",
    "\n",
    "Similarly, we have for $\\lVert A^{-1} \\rVert_{2}$:\n",
    "\n",
    "$\\lVert A^{-1} \\rVert_{2} = \\sqrt{p((A^{-1})^{T}A^{-1})} = \\sqrt{p(A^{-1})^{2})} = \\sqrt{(p(A^{-1}))^{2}} = p(A^{-1})$\n",
    "\n",
    "The eigenvalues of $A^{-1}$ will naturally be $\\frac{1}{\\lambda}$, thus the spectral radius, $p(A^{-1})$, is given as $\\mid \\frac{1}{\\lambda_{min}} \\mid$\n",
    "\n",
    "Finally, this leads to $k_{2}(A) = \\lVert A \\rVert_{2} \\cdot \\lVert A^{-1} \\rVert_{2} = \\mid\\lambda_{max}\\mid \\cdot \\mid\\frac{1}{\\lambda_{min}}\\mid  =  \\mid\\frac{\\lambda_{max}}{\\lambda_{min}}\\mid$\n",
    "\n",
    "$k_{2}(A) = \\mid\\frac{\\lambda_{max}}{\\lambda_{min}}\\mid$\n"
   ]
  },
  {
   "cell_type": "markdown",
   "metadata": {},
   "source": [
    "## Problem 3: \n",
    "\n",
    "Given the matrix $n x n$ matrix A, such that $a_{ij} = 1$ for j $\\geq$ i and $a_{ij} = 0$ for $j < i$, we can find $A^{-1}$ by performing row reduction to the following matrix\n",
    "\n",
    "\\begin{equation*}\n",
    "\\begin{vmatrix}\n",
    "1 & 1 & 1 & 1 & 1 & 0 & 0 & 0\\\\\n",
    "0 &  1 & 1 & 1 & 0 & 1 & 0 & 0 \\\\\n",
    "0 &  0 & 1 & 1 & 0 & 0 & 1 & 0 \\\\\n",
    "0 & 0 & 0 & 1 & 0 & 0 & 0 & 1\n",
    "\\end{vmatrix}\n",
    "\\end{equation*}\n",
    "\n",
    "consisting of $A$ and $I$. By reducing the left side to $I$, the right side of the matrix will convert to $A^{-1}$, because $A \\cdot A^{-1} = I$. \n",
    "\n",
    "\\begin{equation*}\n",
    "\\begin{vmatrix}\n",
    "1 & 0 & 0 & 0 & \\mathbf{1} & \\mathbf{-1} & \\mathbf{0} & \\mathbf{0}\\\\\n",
    "0 &  1 & 0 & 0 & \\mathbf{0} & \\mathbf{1} & \\mathbf{-1} & \\mathbf{0} \\\\\n",
    "0 &  0 & 1 & 0 & \\mathbf{0} & \\mathbf{0} & \\mathbf{1} & \\mathbf{-1} \\\\\n",
    "0 & 0 & 0 & 1 & \\mathbf{0} & \\mathbf{0} & \\mathbf{0} & \\mathbf{1}\n",
    "\\end{vmatrix}\n",
    "\\end{equation*}\n",
    "\n",
    "As we see, $A^{-1}$ can be expressed as an $n x n$ matrix with $a_{ij} = -1$ for $j = i + 1$, $a_{ij} = 1$ for $j = i$, and else, $a_{ij} = 0$."
   ]
  },
  {
   "cell_type": "markdown",
   "metadata": {},
   "source": [
    "To determine $\\mid\\frac{\\lambda_{max}}{\\lambda_{min}}\\mid$, I have implemented a simple python code to calculate the eigenvalues of the matrix."
   ]
  },
  {
   "cell_type": "code",
   "execution_count": 8,
   "metadata": {},
   "outputs": [
    {
     "name": "stdout",
     "output_type": "stream",
     "text": [
      "[ 1.  1.  1.  1.  1.  1.  1.  1.  1.  1.  1.  1.  1.]\n"
     ]
    }
   ],
   "source": [
    "import numpy as np\n",
    "import matplotlib.pyplot as plt\n",
    "import math\n",
    "\n",
    "n = 13\n",
    "matrix = np.zeros([n,n])\n",
    "for i in range(n):\n",
    "    for j in range(n):\n",
    "        if (i == j):\n",
    "            matrix[i][j] = 1\n",
    "        if (j == i + 1):\n",
    "            matrix[i][j] = 1\n",
    "        if (j > i):\n",
    "            matrix[i][j] = 1\n",
    "print(np.linalg.eigvals(matrix))"
   ]
  },
  {
   "cell_type": "markdown",
   "metadata": {},
   "source": [
    "Clearly, all the eigenvalues are equal to 1. Thus, $\\mid\\frac{\\lambda_{max}}{\\lambda_{min}}\\mid = 1$ as well.\n",
    "\n",
    "To determine the condition numbers $k_{1}(A)$ and $k_{\\infty}(A)$, we use the definitions of condition numbers. \n",
    "\n",
    "$k_{1}(A) = \\lVert A \\rVert_{1} \\cdot \\lVert A^{-1} \\rVert_{1}$\n",
    "\n",
    "Where $\\lVert A \\rVert_{1}$ is defined as $\\max\\limits_{1 \\leq j \\leq n}\\sum_{i=1}^{n} \\mid a_{ij} \\mid$\n",
    "\n",
    "From this definition we can easily calculate \n",
    "\n",
    "$\\lVert A \\rVert_{1} = n$ and $\\lVert A^{-1} \\rVert_{1} = 2$\n",
    "\n",
    "Which yields $k_{1}(A) = 2n$\n",
    "\n",
    "Similarily, we have\n",
    "\n",
    "$k_{\\infty}(A) = \\lVert A \\rVert_{\\infty} \\cdot \\lVert A^{-1} \\rVert_{\\infty}$\n",
    "\n",
    "where $\\lVert A \\rVert_{\\infty}$ is defined as $\\max\\limits_{1 \\leq i \\leq n}\\sum_{j=1}^{n} \\mid a_{ij} \\mid$\n",
    "\n",
    "Equally, we have $\\lVert A \\rVert_{\\infty} = n$ and $\\lVert A^{-1} \\rVert_{\\infty} = 2$\n",
    "\n",
    "Which gives Which yields $k_{\\infty}(A) = 2n$\n"
   ]
  },
  {
   "cell_type": "markdown",
   "metadata": {},
   "source": [
    "In the following python code, the condition number $k_{2}$ is investigated numerically."
   ]
  },
  {
   "cell_type": "code",
   "execution_count": 10,
   "metadata": {
    "scrolled": false
   },
   "outputs": [
    {
     "data": {
      "image/png": "[encoded data removed]",
      "text/plain": [
       "<matplotlib.figure.Figure at 0x1117a7eb8>"
      ]
     },
     "metadata": {},
     "output_type": "display_data"
    }
   ],
   "source": [
    "import numpy as np\n",
    "import matplotlib.pyplot as plt\n",
    "import math\n",
    "\n",
    "k1 = []\n",
    "k2 = []\n",
    "list = []\n",
    "\n",
    "for n in range(1,100):\n",
    "    list.append(n)\n",
    "    k1.append(2*n)\n",
    "    matrix = np.zeros([n,n]) \n",
    "    inverseMatrix = np.zeros([n,n])\n",
    "    for i in range(n):\n",
    "        for j in range(n):\n",
    "            if (i == j):\n",
    "                matrix[i][j] = 1\n",
    "                inverseMatrix[i][j] = 1\n",
    "            if (j == i + 1):\n",
    "                inverseMatrix[i][j] = -1\n",
    "                matrix[i][j] = 1\n",
    "            if (j > i):\n",
    "                matrix[i][j] = 1\n",
    "    matrixProduct = np.dot(matrix,np.transpose(matrix))\n",
    "    inverseMatrixProduct = np.dot(inverseMatrix,np.transpose(inverseMatrix))\n",
    "    eigenvalues1 = np.linalg.eigvals(matrixProduct)\n",
    "    eigenvalues2 = np.linalg.eigvals(inverseMatrixProduct)\n",
    "    for eigenvalue in eigenvalues1:\n",
    "        eigenvalue = abs(eigenvalue)\n",
    "    for eigenvalue in eigenvalues2:\n",
    "        eigenvalue = abs(eigenvalue)\n",
    "    specrad1 = np.sqrt(max(eigenvalues1))\n",
    "    specrad2 = np.sqrt(max(eigenvalues2))\n",
    "    k_2 = specrad1 * specrad2\n",
    "    k2.append(k_2)\n",
    "\n",
    "plt.plot(list,k1,label='κ1(n)')\n",
    "plt.plot(list,k2,label='κ2(n)')\n",
    "plt.title(\"Condition numbers as a function of n\")\n",
    "plt.xlabel('n (dimension of matrix)')\n",
    "plt.ylabel('Condition number')\n",
    "plt.legend()\n",
    "plt.show()"
   ]
  },
  {
   "cell_type": "markdown",
   "metadata": {},
   "source": [
    "By studiyng the graph, we observe that $k_{2}(A)$ is approximately linear, at least not constant equal to 1. Thus we can conclude that the relation $k_{2}(A) = \\mid\\frac{\\lambda_{max}}{\\lambda_{min}}\\mid$  does not hold for non-symmetric matrices. "
   ]
  },
  {
   "cell_type": "markdown",
   "metadata": {},
   "source": [
    "#Problem 4:\n",
    "\n",
    "In this problem I am going to analyze the bound \n",
    "$\\frac{\\lVert \\delta x \\rVert}{\\lVert x \\rVert} \\leq \\frac{k(A)}{1 - k(A)\\cdot \\frac{\\lVert \\delta A \\rVert}{\\lVert A \\rVert}} (\\frac{\\lVert \\delta b \\rVert}{\\lVert b \\rVert} + \\frac{\\lVert \\delta A \\rVert}{\\lVert A \\rVert})$\n",
    "\n",
    "By simplifying the problem, we set $\\lVert \\delta A \\rVert = 0$, which yields the bound\n",
    "\n",
    "$\\frac{\\frac{\\lVert \\delta x \\rVert}{\\lVert x \\rVert}}{\\frac{\\lVert \\delta b \\rVert}{\\lVert b \\rVert}} \\leq k(A)$\n",
    "\n",
    "In the following code I am calculating \"kappa_est\", $\\frac{\\frac{\\lVert \\delta x \\rVert}{\\lVert x \\rVert}}{\\frac{\\lVert \\delta b \\rVert}{\\lVert b \\rVert}}$, numerically, and comparing this to \"K2\", $k_{2}(A)$.\n"
   ]
  },
  {
   "cell_type": "code",
   "execution_count": 9,
   "metadata": {},
   "outputs": [
    {
     "name": "stdout",
     "output_type": "stream",
     "text": [
      "K2:  17.0821442999\n",
      "Kappa_est: 1.41717198644\n"
     ]
    },
    {
     "data": {
      "image/png": "[encoded data removed]",
      "text/plain": [
       "<matplotlib.figure.Figure at 0x114eeb828>"
      ]
     },
     "metadata": {},
     "output_type": "display_data"
    }
   ],
   "source": [
    "import numpy as np\n",
    "import matplotlib.pyplot as plt\n",
    "import math\n",
    "\n",
    "n = 13\n",
    "matrix = np.zeros([n,n])  #matrisen A\n",
    "inverseMatrix = np.zeros([n,n])\n",
    "for i in range(n):\n",
    "    for j in range(n):\n",
    "        if (i == j):\n",
    "            matrix[i][j] = 1\n",
    "            inverseMatrix[i][j] = 1\n",
    "        if (j == i + 1):\n",
    "            inverseMatrix[i][j] = -1\n",
    "            matrix[i][j] = 1\n",
    "        if (j > i):\n",
    "            matrix[i][j] = 1\n",
    "b = []\n",
    "for i in range(n):\n",
    "    b.append(1- 2*np.random.random_sample())\n",
    "b = np.asarray(b)\n",
    "\n",
    "x = np.linalg.solve(matrix,b) #finner løsingen på likningen Ax = b\n",
    "matrix_norm = np.linalg.norm(matrix,2) #normen til matrisen A \n",
    "invMatrix_norm = np.linalg.norm(inverseMatrix,2) #normen til inversA\n",
    "b_norm = np.linalg.norm(b,2) #normen til vektoren B \n",
    "x_norm = np.linalg.norm(x,2)\n",
    "k2 = matrix_norm * invMatrix_norm #condition number k2(A)\n",
    "\n",
    "steps = []\n",
    "kappa_est_list = []\n",
    "kappa_est = 0\n",
    "NEXPS = 100000\n",
    "for k in range(0,NEXPS):\n",
    "    delta_b = []\n",
    "    for i in range(n):\n",
    "        delta_b.append((1- 2*np.random.random_sample())/10)\n",
    "    delta_b = np.asarray(delta_b)\n",
    "    delta_x = np.linalg.solve(matrix,delta_b)\n",
    "    delta_x_norm = np.linalg.norm(delta_x)\n",
    "    delta_b_norm = np.linalg.norm(delta_b)\n",
    "    kappa_c = (delta_x_norm / x_norm) / (delta_b_norm / b_norm)\n",
    "    kappa_est = max(kappa_est,kappa_c)\n",
    "    kappa_est_list.append(kappa_est)\n",
    "    steps.append(k)\n",
    "print(\"K2: \",k2)\n",
    "print(\"Kappa_est:\", kappa_est)\n",
    "plt.plot(steps,kappa_est_list,label=\"Kappa_est\")\n",
    "plt.title(\"Kappa_est as a function of n\")\n",
    "plt.xlabel('n (amount of loops)')\n",
    "plt.ylabel('Kappa_est')\n",
    "plt.legend()\n",
    "plt.show()"
   ]
  },
  {
   "cell_type": "markdown",
   "metadata": {},
   "source": [
    "We observe that the bound is satisfied, because of the randomly generated numbers, the result does vary. However, usually I get to approximately 10% of the bound."
   ]
  },
  {
   "cell_type": "code",
   "execution_count": null,
   "metadata": {
    "collapsed": true
   },
   "outputs": [],
   "source": []
  }
 ],
 "metadata": {
  "kernelspec": {
   "display_name": "Python 3",
   "language": "python",
   "name": "python3"
  },
  "language_info": {
   "codemirror_mode": {
    "name": "ipython",
    "version": 3
   },
   "file_extension": ".py",
   "mimetype": "text/x-python",
   "name": "python",
   "nbconvert_exporter": "python",
   "pygments_lexer": "ipython3",
   "version": "3.6.10"
  }
 },
 "nbformat": 4,
 "nbformat_minor": 2
}
